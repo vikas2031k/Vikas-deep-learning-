{
  "nbformat": 4,
  "nbformat_minor": 0,
  "metadata": {
    "colab": {
      "provenance": []
    },
    "kernelspec": {
      "name": "python3",
      "display_name": "Python 3"
    },
    "language_info": {
      "name": "python"
    }
  },
  "cells": [
    {
      "cell_type": "code",
      "execution_count": 4,
      "metadata": {
        "colab": {
          "base_uri": "https://localhost:8080/"
        },
        "id": "Ktswcxsd3QWP",
        "outputId": "6dd47c2a-17ca-4a0c-edd0-a4c5d1a4f47e"
      },
      "outputs": [
        {
          "output_type": "stream",
          "name": "stdout",
          "text": [
            "Training Errors:\n",
            "MSE: 0.002213, RMSE: 0.047039, MAE: 0.029100\n",
            "Test Errors:\n",
            "MSE: 0.000738, RMSE: 0.027158, MAE: 0.027133\n"
          ]
        },
        {
          "output_type": "stream",
          "name": "stderr",
          "text": [
            "<ipython-input-4-4b82ce309876>:14: FutureWarning: 'H' is deprecated and will be removed in a future version, please use 'h' instead.\n",
            "  df[\"Timestamp\"] = pd.date_range(start=\"2025-01-01\", periods=len(df), freq=\"H\")\n"
          ]
        }
      ],
      "source": [
        "import pandas as pd\n",
        "import numpy as np\n",
        "from sklearn.model_selection import train_test_split\n",
        "from sklearn.preprocessing import MinMaxScaler\n",
        "from sklearn.metrics import mean_squared_error, mean_absolute_error\n",
        "\n",
        "# Load the dataset\n",
        "file_path = \"/content/Load_Data_in_kW[1].xlsx\"\n",
        "xls = pd.ExcelFile(file_path)\n",
        "df = pd.read_excel(xls, sheet_name=\"Sheet1\")\n",
        "\n",
        "df.columns = [\"Load_kW\"]  # Rename column\n",
        "\n",
        "df[\"Timestamp\"] = pd.date_range(start=\"2025-01-01\", periods=len(df), freq=\"H\")\n",
        "df.set_index(\"Timestamp\", inplace=True)\n",
        "\n",
        "df[\"Load_kW_lagged\"] = df[\"Load_kW\"].shift(168)  # Create lag feature\n",
        "df.dropna(inplace=True)\n",
        "\n",
        "# Define feature and target\n",
        "X = df[\"Load_kW_lagged\"].values.reshape(-1, 1)\n",
        "y = df[\"Load_kW\"].values.reshape(-1, 1)\n",
        "\n",
        "# Normalize data\n",
        "scaler_X = MinMaxScaler()\n",
        "scaler_y = MinMaxScaler()\n",
        "X_scaled = scaler_X.fit_transform(X)\n",
        "y_scaled = scaler_y.fit_transform(y)\n",
        "\n",
        "# Split data\n",
        "X_train, X_test, y_train, y_test = train_test_split(X_scaled, y_scaled, test_size=0.1, random_state=42, shuffle=False)\n",
        "\n",
        "# Hyperparameters\n",
        "eta = 0.1  # Learning rate\n",
        "epochs = 100\n",
        "epsilon = 1e-8  # Prevent division by zero\n",
        "\n",
        "# Initialize parameters\n",
        "m, c = 1.0, -1.0\n",
        "G_m, G_c = 0, 0  # Initialize accumulators\n",
        "\n",
        "# Training loop\n",
        "for epoch in range(epochs):\n",
        "    y_pred = m * X_train + c\n",
        "    error = y_pred - y_train\n",
        "\n",
        "    grad_m = np.mean(2 * error * X_train)\n",
        "    grad_c = np.mean(2 * error)\n",
        "\n",
        "    G_m += grad_m ** 2\n",
        "    G_c += grad_c ** 2\n",
        "\n",
        "    m -= (eta / (np.sqrt(G_m) + epsilon)) * grad_m\n",
        "    c -= (eta / (np.sqrt(G_c) + epsilon)) * grad_c\n",
        "\n",
        "# Predictions\n",
        "y_train_pred = m * X_train + c\n",
        "y_test_pred = m * X_test + c\n",
        "\n",
        "# Compute errors\n",
        "mse_train = mean_squared_error(y_train, y_train_pred)\n",
        "rmse_train = np.sqrt(mse_train)\n",
        "mae_train = mean_absolute_error(y_train, y_train_pred)\n",
        "\n",
        "mse_test = mean_squared_error(y_test, y_test_pred)\n",
        "rmse_test = np.sqrt(mse_test)\n",
        "mae_test = mean_absolute_error(y_test, y_test_pred)\n",
        "\n",
        "# Display results\n",
        "print(\"Training Errors:\")\n",
        "print(f\"MSE: {mse_train:.6f}, RMSE: {rmse_train:.6f}, MAE: {mae_train:.6f}\")\n",
        "print(\"Test Errors:\")\n",
        "print(f\"MSE: {mse_test:.6f}, RMSE: {rmse_test:.6f}, MAE: {mae_test:.6f}\")"
      ]
    }
  ]
}