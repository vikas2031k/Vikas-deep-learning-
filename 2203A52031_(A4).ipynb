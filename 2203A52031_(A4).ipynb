{
  "nbformat": 4,
  "nbformat_minor": 0,
  "metadata": {
    "colab": {
      "provenance": []
    },
    "kernelspec": {
      "name": "python3",
      "display_name": "Python 3"
    },
    "language_info": {
      "name": "python"
    }
  },
  "cells": [
    {
      "cell_type": "code",
      "execution_count": null,
      "metadata": {
        "id": "v1vpr7fJxh5P",
        "colab": {
          "base_uri": "https://localhost:8080/"
        },
        "outputId": "1432c9d5-5a7d-4d66-88f0-60382ff3da73"
      },
      "outputs": [
        {
          "output_type": "stream",
          "name": "stdout",
          "text": [
            "Epoch 0, MSE: 0.7187388271254651\n",
            "Epoch 100, MSE: 0.012259937913487475\n",
            "Epoch 200, MSE: 0.009654967292717058\n",
            "Epoch 300, MSE: 0.00846669135697329\n",
            "Epoch 400, MSE: 0.00743240999376958\n",
            "Epoch 500, MSE: 0.0065303734977787435\n",
            "Epoch 600, MSE: 0.00574355266283935\n",
            "Epoch 700, MSE: 0.005057126443505026\n",
            "Epoch 800, MSE: 0.004458191089874299\n",
            "Epoch 900, MSE: 0.003935510710977499\n",
            "Test MSE: 0.003542389389022719\n"
          ]
        }
      ],
      "source": [
        "import numpy as np\n",
        "\n",
        "# Training data\n",
        "X_train = np.array([\n",
        "    [0.1, 0.2, 0.3],\n",
        "    [0.2, 0.3, 0.4],\n",
        "    [0.3, 0.4, 0.5],\n",
        "    [0.5, 0.6, 0.7],\n",
        "    [0.1, 0.3, 0.5],\n",
        "    [0.2, 0.4, 0.6],\n",
        "    [0.3, 0.5, 0.7],\n",
        "    [0.4, 0.6, 0.8],\n",
        "    [0.5, 0.7, 0.1]\n",
        "])\n",
        "y_train = np.array([0.14, 0.20, 0.26, 0.38, 0.22, 0.28, 0.34, 0.40, 0.22])\n",
        "\n",
        "# Initialize weights and bias\n",
        "weights = np.random.rand(3)  # Random weights for x1, x2, x3\n",
        "bias = np.random.rand()     # Random bias\n",
        "learning_rate = 0.01\n",
        "epochs = 1000\n",
        "\n",
        "# Training loop\n",
        "for epoch in range(epochs):\n",
        "    # Forward pass\n",
        "    y_pred = np.dot(X_train, weights) + bias\n",
        "\n",
        "    # Calculate error\n",
        "    error = y_pred - y_train\n",
        "\n",
        "    # Compute gradients\n",
        "    d_weights = (2 / len(X_train)) * np.dot(X_train.T, error)\n",
        "    d_bias = (2 / len(X_train)) * np.sum(error)\n",
        "\n",
        "    # Update weights and bias\n",
        "    weights -= learning_rate * d_weights\n",
        "    bias -= learning_rate * d_bias\n",
        "\n",
        "    # Print MSE every 100 epochs\n",
        "    if epoch % 100 == 0:\n",
        "        mse = np.mean(error**2)\n",
        "        print(f\"Epoch {epoch}, MSE: {mse}\")\n",
        "\n",
        "# Test data\n",
        "X_test = np.array([\n",
        "    [0.6, 0.7, 0.8],\n",
        "    [0.7, 0.8, 0.9]\n",
        "])\n",
        "y_test = np.array([0.44, 0.50])\n",
        "\n",
        "# Predict on test data\n",
        "y_test_pred = np.dot(X_test, weights) + bias\n",
        "mse_test = np.mean((y_test - y_test_pred) ** 2)\n",
        "print(f\"Test MSE: {mse_test}\")\n",
        "\n",
        "# Predict for user input\n",
        "x1 = float(input(\"Enter x1: \"))\n",
        "x2 = float(input(\"Enter x2: \"))\n",
        "x3 = float(input(\"Enter x3: \"))\n",
        "user_input = np.array([x1, x2, x3])\n",
        "prediction = np.dot(user_input, weights) + bias\n",
        "print(f\"Predicted output: {prediction}\")\n"
      ]
    }
  ]
}